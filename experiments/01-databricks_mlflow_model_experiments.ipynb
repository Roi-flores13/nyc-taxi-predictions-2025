{
 "cells": [
  {
   "cell_type": "code",
   "execution_count": 3,
   "id": "8acd3b8a",
   "metadata": {},
   "outputs": [],
   "source": [
    "import os, mlflow\n",
    "from dotenv import load_dotenv\n",
    "\n",
    "load_dotenv(override=True)\n",
    "EXPERIMENT_NAME = \"/Users/roiflores.2213@gmail.com/nyc-taxi-experiments\"\n",
    "\n",
    "mlflow.set_tracking_uri(\"databricks\")\n",
    "experiment = mlflow.set_experiment(experiment_name=EXPERIMENT_NAME)"
   ]
  },
  {
   "cell_type": "code",
   "execution_count": 4,
   "id": "b300ce1d",
   "metadata": {},
   "outputs": [],
   "source": [
    "import pickle\n",
    "import pandas as pd\n",
    "from sklearn.metrics import  root_mean_squared_error\n",
    "from sklearn.feature_extraction import  DictVectorizer"
   ]
  },
  {
   "cell_type": "code",
   "execution_count": 5,
   "id": "7fe42919",
   "metadata": {},
   "outputs": [],
   "source": [
    "def read_dataframe(filename):\n",
    "\n",
    "    df = pd.read_parquet(filename)\n",
    "\n",
    "    df['duration'] = df.lpep_dropoff_datetime - df.lpep_pickup_datetime\n",
    "    df.duration = df.duration.apply(lambda td: td.total_seconds() / 60)\n",
    "\n",
    "    df = df[(df.duration >= 1) & (df.duration <= 60)]\n",
    "\n",
    "    categorical = ['PULocationID', 'DOLocationID']\n",
    "    df[categorical] = df[categorical].astype(str)\n",
    "\n",
    "    return df"
   ]
  },
  {
   "cell_type": "code",
   "execution_count": 6,
   "id": "ba24202f",
   "metadata": {},
   "outputs": [],
   "source": [
    "df_train = read_dataframe('../data/green_tripdata_2025-01.parquet')\n",
    "df_val = read_dataframe('../data/green_tripdata_2025-02.parquet')"
   ]
  },
  {
   "cell_type": "code",
   "execution_count": 7,
   "id": "cf3746b6",
   "metadata": {},
   "outputs": [],
   "source": [
    "def preprocess(df, dv):\n",
    "    df['PU_DO'] = df['PULocationID'] + '_' + df['DOLocationID']\n",
    "    categorical = ['PU_DO']\n",
    "    numerical = ['trip_distance']\n",
    "    train_dicts = df[categorical + numerical].to_dict(orient='records')\n",
    "    return dv.transform(train_dicts)"
   ]
  },
  {
   "cell_type": "code",
   "execution_count": 8,
   "id": "6cc4e322",
   "metadata": {},
   "outputs": [],
   "source": [
    "categorical = ['PULocationID', 'DOLocationID']\n",
    "numerical = ['trip_distance']\n",
    "dv = DictVectorizer()\n",
    "\n",
    "train_dicts = df_train[categorical + numerical].to_dict(orient='records')\n",
    "X_train = dv.fit_transform(train_dicts)\n",
    "\n",
    "X_val = preprocess(df_val, dv)"
   ]
  },
  {
   "cell_type": "code",
   "execution_count": 9,
   "id": "adb589a4",
   "metadata": {},
   "outputs": [],
   "source": [
    "target = 'duration'\n",
    "y_train = df_train[target].values\n",
    "y_val = df_val[target].values"
   ]
  },
  {
   "cell_type": "code",
   "execution_count": 10,
   "id": "c1937479",
   "metadata": {},
   "outputs": [],
   "source": [
    "training_dataset = mlflow.data.from_numpy(X_train.data, targets=y_train, name=\"green_tripdata_2025-01\")\n",
    "validation_dataset = mlflow.data.from_numpy(X_val.data, targets=y_val, name=\"green_tripdata_2025-02\")"
   ]
  },
  {
   "cell_type": "code",
   "execution_count": 11,
   "id": "7b1d5b8b",
   "metadata": {},
   "outputs": [
    {
     "name": "stderr",
     "output_type": "stream",
     "text": [
      "c:\\Users\\Roi_f\\PCD\\nyc-taxi-predictions-2025\\.venv\\Lib\\site-packages\\tqdm\\auto.py:21: TqdmWarning: IProgress not found. Please update jupyter and ipywidgets. See https://ipywidgets.readthedocs.io/en/stable/user_install.html\n",
      "  from .autonotebook import tqdm as notebook_tqdm\n"
     ]
    }
   ],
   "source": [
    "import math\n",
    "import optuna\n",
    "import pathlib\n",
    "import xgboost as xgb\n",
    "from optuna.samplers import TPESampler\n",
    "from mlflow.models.signature import infer_signature"
   ]
  },
  {
   "cell_type": "code",
   "execution_count": 12,
   "id": "4e27f061",
   "metadata": {},
   "outputs": [],
   "source": [
    "train = xgb.DMatrix(X_train, label=y_train)\n",
    "valid = xgb.DMatrix(X_val, label=y_val)"
   ]
  },
  {
   "cell_type": "code",
   "execution_count": 13,
   "id": "2bda3809",
   "metadata": {},
   "outputs": [],
   "source": [
    "def objective(trial: optuna.trial.Trial):\n",
    "    params = {\n",
    "        \"max_depth\": trial.suggest_int(\"max_depth\", 4, 100),\n",
    "        \"learning_rate\": trial.suggest_float(\"learning_rate\", math.exp(-3), 1.0, log=True),\n",
    "        \"reg_alpha\": trial.suggest_float(\"reg_alpha\",   math.exp(-5), math.exp(-1), log=True),\n",
    "        \"reg_lambda\": trial.suggest_float(\"reg_lambda\", math.exp(-6), math.exp(-1), log=True),\n",
    "        \"min_child_weight\": trial.suggest_float(\"min_child_weight\", math.exp(-1), math.exp(3), log=True),\n",
    "        \"objective\": \"reg:squarederror\",  \n",
    "        \"seed\": 42, \n",
    "    }\n",
    "    \n",
    "    with mlflow.start_run(nested=True):\n",
    "        mlflow.set_tag(\"model_family\", \"xgboost\")\n",
    "        mlflow.log_params(params)\n",
    "        \n",
    "        booster = xgb.train(\n",
    "            params=params,\n",
    "            dtrain=train,\n",
    "            num_boost_round=100,\n",
    "            evals=[(valid, \"validation\")],\n",
    "            early_stopping_rounds=10\n",
    "        )\n",
    "        \n",
    "        y_pred = booster.predict(valid)\n",
    "        rmse = root_mean_squared_error(y_val, y_pred)\n",
    "        \n",
    "        mlflow.log_metric(\"rmse\", rmse)\n",
    "        \n",
    "        signature = infer_signature(X_val, y_pred)\n",
    "        \n",
    "        mlflow.xgboost.log_model(\n",
    "            booster,\n",
    "            name=\"model\",\n",
    "            input_example=X_val[:5],\n",
    "            signature=signature\n",
    "        )\n",
    "        \n",
    "    return rmse"
   ]
  },
  {
   "cell_type": "code",
   "execution_count": 14,
   "id": "9ef5beb8",
   "metadata": {},
   "outputs": [
    {
     "name": "stderr",
     "output_type": "stream",
     "text": [
      "[I 2025-10-21 21:25:09,992] A new study created in memory with name: no-name-b163cf2c-6819-4826-b20b-55626b2af41c\n"
     ]
    },
    {
     "name": "stdout",
     "output_type": "stream",
     "text": [
      "[0]\tvalidation-rmse:5.98960\n",
      "[1]\tvalidation-rmse:5.92413\n",
      "[2]\tvalidation-rmse:5.92287\n",
      "[3]\tvalidation-rmse:5.92324\n",
      "[4]\tvalidation-rmse:5.92483\n",
      "[5]\tvalidation-rmse:5.92489\n",
      "[6]\tvalidation-rmse:5.92498\n",
      "[7]\tvalidation-rmse:5.92343\n",
      "[8]\tvalidation-rmse:5.92347\n",
      "[9]\tvalidation-rmse:5.92467\n",
      "[10]\tvalidation-rmse:5.92456\n",
      "[11]\tvalidation-rmse:5.92460\n"
     ]
    },
    {
     "name": "stderr",
     "output_type": "stream",
     "text": [
      "c:\\Users\\Roi_f\\PCD\\nyc-taxi-predictions-2025\\.venv\\Lib\\site-packages\\mlflow\\xgboost\\__init__.py:169: UserWarning: [21:25:22] WARNING: C:\\actions-runner\\_work\\xgboost\\xgboost\\src\\c_api\\c_api.cc:1575: Saving model in the UBJSON format as default.  You can use a file extension: `json` or `ubj` to choose between formats.\n",
      "  xgb_model.save_model(model_data_path)\n",
      "2025/10/21 21:25:29 WARNING mlflow.utils.environment: Failed to resolve installed pip version. ``pip`` will be added to conda.yaml environment spec without a version specifier.\n",
      "Downloading artifacts: 100%|██████████| 7/7 [00:00<00:00, 929.94it/s]\n",
      "c:\\Users\\Roi_f\\PCD\\nyc-taxi-predictions-2025\\.venv\\Lib\\site-packages\\mlflow\\xgboost\\__init__.py:321: UserWarning: [21:25:29] WARNING: C:\\actions-runner\\_work\\xgboost\\xgboost\\src\\c_api\\c_api.cc:1511: Unknown file format: `xgb`. Using UBJSON (`ubj`) as a guess.\n",
      "  model.load_model(xgb_model_path)\n",
      "2025/10/21 21:25:29 INFO mlflow.models.model: Found the following environment variables used during model inference: [DATABRICKS_HOST, DATABRICKS_TOKEN]. Please check if you need to set them when deploying the model. To disable this message, set environment variable `MLFLOW_RECORD_ENV_VARS_IN_MODEL_LOGGING` to `false`.\n",
      "[I 2025-10-21 21:25:33,598] Trial 0 finished with value: 5.924581902007077 and parameters: {'max_depth': 40, 'learning_rate': 0.8625543817410922, 'reg_alpha': 0.12593061066249622, 'reg_lambda': 0.049454235173237264, 'min_child_weight': 0.6866535292359801}. Best is trial 0 with value: 5.924581902007077.\n"
     ]
    },
    {
     "name": "stdout",
     "output_type": "stream",
     "text": [
      "🏃 View run glamorous-mouse-314 at: https://dbc-8e655ea0-6144.cloud.databricks.com/ml/experiments/2695805265605501/runs/93104e236aac4f33a6043f64d4771c81\n",
      "🧪 View experiment at: https://dbc-8e655ea0-6144.cloud.databricks.com/ml/experiments/2695805265605501\n",
      "[0]\tvalidation-rmse:8.79510\n",
      "[1]\tvalidation-rmse:8.50586\n",
      "[2]\tvalidation-rmse:8.24215\n",
      "[3]\tvalidation-rmse:8.00493\n",
      "[4]\tvalidation-rmse:7.78830\n",
      "[5]\tvalidation-rmse:7.59575\n",
      "[6]\tvalidation-rmse:7.41983\n",
      "[7]\tvalidation-rmse:7.26129\n",
      "[8]\tvalidation-rmse:7.11270\n",
      "[9]\tvalidation-rmse:6.98583\n",
      "[10]\tvalidation-rmse:6.87056\n",
      "[11]\tvalidation-rmse:6.76533\n",
      "[12]\tvalidation-rmse:6.67029\n",
      "[13]\tvalidation-rmse:6.58378\n",
      "[14]\tvalidation-rmse:6.50773\n",
      "[15]\tvalidation-rmse:6.43768\n",
      "[16]\tvalidation-rmse:6.37633\n",
      "[17]\tvalidation-rmse:6.32116\n",
      "[18]\tvalidation-rmse:6.27142\n",
      "[19]\tvalidation-rmse:6.22765\n",
      "[20]\tvalidation-rmse:6.18963\n",
      "[21]\tvalidation-rmse:6.15802\n",
      "[22]\tvalidation-rmse:6.12794\n",
      "[23]\tvalidation-rmse:6.10295\n",
      "[24]\tvalidation-rmse:6.07940\n",
      "[25]\tvalidation-rmse:6.05863\n",
      "[26]\tvalidation-rmse:6.04052\n",
      "[27]\tvalidation-rmse:6.02306\n",
      "[28]\tvalidation-rmse:6.00993\n",
      "[29]\tvalidation-rmse:5.99790\n",
      "[30]\tvalidation-rmse:5.98840\n",
      "[31]\tvalidation-rmse:5.97820\n",
      "[32]\tvalidation-rmse:5.97064\n",
      "[33]\tvalidation-rmse:5.96317\n",
      "[34]\tvalidation-rmse:5.95493\n",
      "[35]\tvalidation-rmse:5.95049\n",
      "[36]\tvalidation-rmse:5.94623\n",
      "[37]\tvalidation-rmse:5.94216\n",
      "[38]\tvalidation-rmse:5.93902\n",
      "[39]\tvalidation-rmse:5.93502\n",
      "[40]\tvalidation-rmse:5.93186\n",
      "[41]\tvalidation-rmse:5.92873\n",
      "[42]\tvalidation-rmse:5.92722\n",
      "[43]\tvalidation-rmse:5.92557\n",
      "[44]\tvalidation-rmse:5.92364\n",
      "[45]\tvalidation-rmse:5.92068\n",
      "[46]\tvalidation-rmse:5.91967\n",
      "[47]\tvalidation-rmse:5.91923\n",
      "[48]\tvalidation-rmse:5.91751\n",
      "[49]\tvalidation-rmse:5.91613\n",
      "[50]\tvalidation-rmse:5.91486\n",
      "[51]\tvalidation-rmse:5.91368\n",
      "[52]\tvalidation-rmse:5.91256\n",
      "[53]\tvalidation-rmse:5.91154\n",
      "[54]\tvalidation-rmse:5.91072\n",
      "[55]\tvalidation-rmse:5.90993\n",
      "[56]\tvalidation-rmse:5.90939\n",
      "[57]\tvalidation-rmse:5.90876\n",
      "[58]\tvalidation-rmse:5.90819\n",
      "[59]\tvalidation-rmse:5.90758\n",
      "[60]\tvalidation-rmse:5.90717\n",
      "[61]\tvalidation-rmse:5.90679\n",
      "[62]\tvalidation-rmse:5.90642\n",
      "[63]\tvalidation-rmse:5.90599\n",
      "[64]\tvalidation-rmse:5.90561\n",
      "[65]\tvalidation-rmse:5.90537\n",
      "[66]\tvalidation-rmse:5.90520\n",
      "[67]\tvalidation-rmse:5.90505\n",
      "[68]\tvalidation-rmse:5.90478\n",
      "[69]\tvalidation-rmse:5.90452\n",
      "[70]\tvalidation-rmse:5.90439\n",
      "[71]\tvalidation-rmse:5.90420\n",
      "[72]\tvalidation-rmse:5.90403\n",
      "[73]\tvalidation-rmse:5.90400\n",
      "[74]\tvalidation-rmse:5.90401\n",
      "[75]\tvalidation-rmse:5.90404\n",
      "[76]\tvalidation-rmse:5.90395\n",
      "[77]\tvalidation-rmse:5.90374\n",
      "[78]\tvalidation-rmse:5.90376\n",
      "[79]\tvalidation-rmse:5.90371\n",
      "[80]\tvalidation-rmse:5.90373\n",
      "[81]\tvalidation-rmse:5.90374\n",
      "[82]\tvalidation-rmse:5.90351\n",
      "[83]\tvalidation-rmse:5.90332\n",
      "[84]\tvalidation-rmse:5.90333\n",
      "[85]\tvalidation-rmse:5.90315\n",
      "[86]\tvalidation-rmse:5.90316\n",
      "[87]\tvalidation-rmse:5.90316\n",
      "[88]\tvalidation-rmse:5.90316\n",
      "[89]\tvalidation-rmse:5.90299\n",
      "[90]\tvalidation-rmse:5.90302\n",
      "[91]\tvalidation-rmse:5.90302\n",
      "[92]\tvalidation-rmse:5.90287\n",
      "[93]\tvalidation-rmse:5.90279\n",
      "[94]\tvalidation-rmse:5.90281\n",
      "[95]\tvalidation-rmse:5.90260\n",
      "[96]\tvalidation-rmse:5.90261\n",
      "[97]\tvalidation-rmse:5.90261\n",
      "[98]\tvalidation-rmse:5.90261\n",
      "[99]\tvalidation-rmse:5.90261\n"
     ]
    },
    {
     "name": "stderr",
     "output_type": "stream",
     "text": [
      "c:\\Users\\Roi_f\\PCD\\nyc-taxi-predictions-2025\\.venv\\Lib\\site-packages\\mlflow\\xgboost\\__init__.py:169: UserWarning: [21:25:41] WARNING: C:\\actions-runner\\_work\\xgboost\\xgboost\\src\\c_api\\c_api.cc:1575: Saving model in the UBJSON format as default.  You can use a file extension: `json` or `ubj` to choose between formats.\n",
      "  xgb_model.save_model(model_data_path)\n",
      "2025/10/21 21:25:47 WARNING mlflow.utils.environment: Failed to resolve installed pip version. ``pip`` will be added to conda.yaml environment spec without a version specifier.\n",
      "Downloading artifacts: 100%|██████████| 7/7 [00:00<00:00, 1620.94it/s]\n",
      "c:\\Users\\Roi_f\\PCD\\nyc-taxi-predictions-2025\\.venv\\Lib\\site-packages\\mlflow\\xgboost\\__init__.py:321: UserWarning: [21:25:47] WARNING: C:\\actions-runner\\_work\\xgboost\\xgboost\\src\\c_api\\c_api.cc:1511: Unknown file format: `xgb`. Using UBJSON (`ubj`) as a guess.\n",
      "  model.load_model(xgb_model_path)\n",
      "[I 2025-10-21 21:25:52,401] Trial 1 finished with value: 5.902611653559419 and parameters: {'max_depth': 19, 'learning_rate': 0.059264241587996896, 'reg_alpha': 0.21539205131792016, 'reg_lambda': 0.05006540936006931, 'min_child_weight': 6.248180561354165}. Best is trial 1 with value: 5.902611653559419.\n"
     ]
    },
    {
     "name": "stdout",
     "output_type": "stream",
     "text": [
      "🏃 View run merciful-pig-334 at: https://dbc-8e655ea0-6144.cloud.databricks.com/ml/experiments/2695805265605501/runs/c82beb570d2f4c8fb1f99129c08485a2\n",
      "🧪 View experiment at: https://dbc-8e655ea0-6144.cloud.databricks.com/ml/experiments/2695805265605501\n",
      "[0]\tvalidation-rmse:5.90396\n",
      "[1]\tvalidation-rmse:5.88901\n",
      "[2]\tvalidation-rmse:5.88875\n",
      "[3]\tvalidation-rmse:5.88908\n",
      "[4]\tvalidation-rmse:5.88973\n",
      "[5]\tvalidation-rmse:5.88241\n",
      "[6]\tvalidation-rmse:5.88348\n",
      "[7]\tvalidation-rmse:5.88292\n",
      "[8]\tvalidation-rmse:5.87483\n",
      "[9]\tvalidation-rmse:5.87457\n",
      "[10]\tvalidation-rmse:5.87441\n",
      "[11]\tvalidation-rmse:5.87453\n",
      "[12]\tvalidation-rmse:5.87449\n",
      "[13]\tvalidation-rmse:5.87444\n",
      "[14]\tvalidation-rmse:5.87358\n",
      "[15]\tvalidation-rmse:5.87331\n",
      "[16]\tvalidation-rmse:5.87310\n",
      "[17]\tvalidation-rmse:5.87302\n",
      "[18]\tvalidation-rmse:5.87068\n",
      "[19]\tvalidation-rmse:5.87074\n",
      "[20]\tvalidation-rmse:5.87061\n",
      "[21]\tvalidation-rmse:5.87062\n",
      "[22]\tvalidation-rmse:5.87063\n",
      "[23]\tvalidation-rmse:5.87068\n",
      "[24]\tvalidation-rmse:5.87073\n",
      "[25]\tvalidation-rmse:5.87077\n",
      "[26]\tvalidation-rmse:5.87081\n",
      "[27]\tvalidation-rmse:5.87078\n",
      "[28]\tvalidation-rmse:5.87063\n",
      "[29]\tvalidation-rmse:5.87063\n",
      "[30]\tvalidation-rmse:5.87362\n"
     ]
    },
    {
     "name": "stderr",
     "output_type": "stream",
     "text": [
      "c:\\Users\\Roi_f\\PCD\\nyc-taxi-predictions-2025\\.venv\\Lib\\site-packages\\mlflow\\xgboost\\__init__.py:169: UserWarning: [21:25:58] WARNING: C:\\actions-runner\\_work\\xgboost\\xgboost\\src\\c_api\\c_api.cc:1575: Saving model in the UBJSON format as default.  You can use a file extension: `json` or `ubj` to choose between formats.\n",
      "  xgb_model.save_model(model_data_path)\n",
      "2025/10/21 21:26:03 WARNING mlflow.utils.environment: Failed to resolve installed pip version. ``pip`` will be added to conda.yaml environment spec without a version specifier.\n",
      "Downloading artifacts: 100%|██████████| 7/7 [00:00<00:00, 873.61it/s] \n",
      "c:\\Users\\Roi_f\\PCD\\nyc-taxi-predictions-2025\\.venv\\Lib\\site-packages\\mlflow\\xgboost\\__init__.py:321: UserWarning: [21:26:03] WARNING: C:\\actions-runner\\_work\\xgboost\\xgboost\\src\\c_api\\c_api.cc:1511: Unknown file format: `xgb`. Using UBJSON (`ubj`) as a guess.\n",
      "  model.load_model(xgb_model_path)\n",
      "[I 2025-10-21 21:26:06,112] Trial 2 finished with value: 5.873624736518469 and parameters: {'max_depth': 5, 'learning_rate': 0.9136840519292247, 'reg_alpha': 0.18820387978911576, 'reg_lambda': 0.007166739666045858, 'min_child_weight': 0.7613210498541186}. Best is trial 2 with value: 5.873624736518469.\n"
     ]
    },
    {
     "name": "stdout",
     "output_type": "stream",
     "text": [
      "🏃 View run orderly-ram-429 at: https://dbc-8e655ea0-6144.cloud.databricks.com/ml/experiments/2695805265605501/runs/c99e08a28b574524846d01ca6d24d8b0\n",
      "🧪 View experiment at: https://dbc-8e655ea0-6144.cloud.databricks.com/ml/experiments/2695805265605501\n"
     ]
    },
    {
     "name": "stderr",
     "output_type": "stream",
     "text": [
      "[I 2025-10-21 21:26:06,646] A new study created in memory with name: no-name-911704df-4f9c-47de-98fa-dc422dca3bef\n"
     ]
    },
    {
     "name": "stdout",
     "output_type": "stream",
     "text": [
      "🏃 View run XGBoost Hyperparameter Optimization (Optuna) at: https://dbc-8e655ea0-6144.cloud.databricks.com/ml/experiments/2695805265605501/runs/28ffc881581d44d3b9c21a6674756e72\n",
      "🧪 View experiment at: https://dbc-8e655ea0-6144.cloud.databricks.com/ml/experiments/2695805265605501\n",
      "[0]\tvalidation-rmse:5.98960\n",
      "[1]\tvalidation-rmse:5.92413\n",
      "[2]\tvalidation-rmse:5.92287\n",
      "[3]\tvalidation-rmse:5.92324\n",
      "[4]\tvalidation-rmse:5.92483\n",
      "[5]\tvalidation-rmse:5.92489\n",
      "[6]\tvalidation-rmse:5.92498\n",
      "[7]\tvalidation-rmse:5.92343\n",
      "[8]\tvalidation-rmse:5.92347\n",
      "[9]\tvalidation-rmse:5.92467\n",
      "[10]\tvalidation-rmse:5.92456\n",
      "[11]\tvalidation-rmse:5.92460\n",
      "[12]\tvalidation-rmse:5.92458\n"
     ]
    },
    {
     "name": "stderr",
     "output_type": "stream",
     "text": [
      "c:\\Users\\Roi_f\\PCD\\nyc-taxi-predictions-2025\\.venv\\Lib\\site-packages\\mlflow\\xgboost\\__init__.py:169: UserWarning: [21:26:15] WARNING: C:\\actions-runner\\_work\\xgboost\\xgboost\\src\\c_api\\c_api.cc:1575: Saving model in the UBJSON format as default.  You can use a file extension: `json` or `ubj` to choose between formats.\n",
      "  xgb_model.save_model(model_data_path)\n",
      "2025/10/21 21:26:21 WARNING mlflow.utils.environment: Failed to resolve installed pip version. ``pip`` will be added to conda.yaml environment spec without a version specifier.\n",
      "Downloading artifacts: 100%|██████████| 7/7 [00:00<00:00, 1521.25it/s]\n",
      "c:\\Users\\Roi_f\\PCD\\nyc-taxi-predictions-2025\\.venv\\Lib\\site-packages\\mlflow\\xgboost\\__init__.py:321: UserWarning: [21:26:21] WARNING: C:\\actions-runner\\_work\\xgboost\\xgboost\\src\\c_api\\c_api.cc:1511: Unknown file format: `xgb`. Using UBJSON (`ubj`) as a guess.\n",
      "  model.load_model(xgb_model_path)\n",
      "[I 2025-10-21 21:26:25,123] Trial 0 finished with value: 5.924581902007077 and parameters: {'max_depth': 40, 'learning_rate': 0.8625543817410922, 'reg_alpha': 0.12593061066249622, 'reg_lambda': 0.049454235173237264, 'min_child_weight': 0.6866535292359801}. Best is trial 0 with value: 5.924581902007077.\n"
     ]
    },
    {
     "name": "stdout",
     "output_type": "stream",
     "text": [
      "🏃 View run suave-ant-135 at: https://dbc-8e655ea0-6144.cloud.databricks.com/ml/experiments/2695805265605501/runs/2a693ddfd94644919c14849a419cb8f5\n",
      "🧪 View experiment at: https://dbc-8e655ea0-6144.cloud.databricks.com/ml/experiments/2695805265605501\n",
      "[0]\tvalidation-rmse:8.79510\n",
      "[1]\tvalidation-rmse:8.50586\n",
      "[2]\tvalidation-rmse:8.24215\n",
      "[3]\tvalidation-rmse:8.00493\n",
      "[4]\tvalidation-rmse:7.78830\n",
      "[5]\tvalidation-rmse:7.59575\n",
      "[6]\tvalidation-rmse:7.41983\n",
      "[7]\tvalidation-rmse:7.26129\n",
      "[8]\tvalidation-rmse:7.11270\n",
      "[9]\tvalidation-rmse:6.98583\n",
      "[10]\tvalidation-rmse:6.87056\n",
      "[11]\tvalidation-rmse:6.76533\n",
      "[12]\tvalidation-rmse:6.67029\n",
      "[13]\tvalidation-rmse:6.58378\n",
      "[14]\tvalidation-rmse:6.50773\n",
      "[15]\tvalidation-rmse:6.43768\n",
      "[16]\tvalidation-rmse:6.37633\n",
      "[17]\tvalidation-rmse:6.32116\n",
      "[18]\tvalidation-rmse:6.27142\n",
      "[19]\tvalidation-rmse:6.22765\n",
      "[20]\tvalidation-rmse:6.18963\n",
      "[21]\tvalidation-rmse:6.15802\n",
      "[22]\tvalidation-rmse:6.12794\n",
      "[23]\tvalidation-rmse:6.10295\n",
      "[24]\tvalidation-rmse:6.07940\n",
      "[25]\tvalidation-rmse:6.05863\n",
      "[26]\tvalidation-rmse:6.04052\n",
      "[27]\tvalidation-rmse:6.02306\n",
      "[28]\tvalidation-rmse:6.00993\n",
      "[29]\tvalidation-rmse:5.99790\n",
      "[30]\tvalidation-rmse:5.98840\n",
      "[31]\tvalidation-rmse:5.97820\n",
      "[32]\tvalidation-rmse:5.97064\n",
      "[33]\tvalidation-rmse:5.96317\n",
      "[34]\tvalidation-rmse:5.95493\n",
      "[35]\tvalidation-rmse:5.95049\n",
      "[36]\tvalidation-rmse:5.94623\n",
      "[37]\tvalidation-rmse:5.94216\n",
      "[38]\tvalidation-rmse:5.93902\n",
      "[39]\tvalidation-rmse:5.93502\n",
      "[40]\tvalidation-rmse:5.93186\n",
      "[41]\tvalidation-rmse:5.92873\n",
      "[42]\tvalidation-rmse:5.92722\n",
      "[43]\tvalidation-rmse:5.92557\n",
      "[44]\tvalidation-rmse:5.92364\n",
      "[45]\tvalidation-rmse:5.92068\n",
      "[46]\tvalidation-rmse:5.91967\n",
      "[47]\tvalidation-rmse:5.91923\n",
      "[48]\tvalidation-rmse:5.91751\n",
      "[49]\tvalidation-rmse:5.91613\n",
      "[50]\tvalidation-rmse:5.91486\n",
      "[51]\tvalidation-rmse:5.91368\n",
      "[52]\tvalidation-rmse:5.91256\n",
      "[53]\tvalidation-rmse:5.91154\n",
      "[54]\tvalidation-rmse:5.91072\n",
      "[55]\tvalidation-rmse:5.90993\n",
      "[56]\tvalidation-rmse:5.90939\n",
      "[57]\tvalidation-rmse:5.90876\n",
      "[58]\tvalidation-rmse:5.90819\n",
      "[59]\tvalidation-rmse:5.90758\n",
      "[60]\tvalidation-rmse:5.90717\n",
      "[61]\tvalidation-rmse:5.90679\n",
      "[62]\tvalidation-rmse:5.90642\n",
      "[63]\tvalidation-rmse:5.90599\n",
      "[64]\tvalidation-rmse:5.90561\n",
      "[65]\tvalidation-rmse:5.90537\n",
      "[66]\tvalidation-rmse:5.90520\n",
      "[67]\tvalidation-rmse:5.90505\n",
      "[68]\tvalidation-rmse:5.90478\n",
      "[69]\tvalidation-rmse:5.90452\n",
      "[70]\tvalidation-rmse:5.90439\n",
      "[71]\tvalidation-rmse:5.90420\n",
      "[72]\tvalidation-rmse:5.90403\n",
      "[73]\tvalidation-rmse:5.90400\n",
      "[74]\tvalidation-rmse:5.90401\n",
      "[75]\tvalidation-rmse:5.90404\n",
      "[76]\tvalidation-rmse:5.90395\n",
      "[77]\tvalidation-rmse:5.90374\n",
      "[78]\tvalidation-rmse:5.90376\n",
      "[79]\tvalidation-rmse:5.90371\n",
      "[80]\tvalidation-rmse:5.90373\n",
      "[81]\tvalidation-rmse:5.90374\n",
      "[82]\tvalidation-rmse:5.90351\n",
      "[83]\tvalidation-rmse:5.90332\n",
      "[84]\tvalidation-rmse:5.90333\n",
      "[85]\tvalidation-rmse:5.90315\n",
      "[86]\tvalidation-rmse:5.90316\n",
      "[87]\tvalidation-rmse:5.90316\n",
      "[88]\tvalidation-rmse:5.90316\n",
      "[89]\tvalidation-rmse:5.90299\n",
      "[90]\tvalidation-rmse:5.90302\n",
      "[91]\tvalidation-rmse:5.90302\n",
      "[92]\tvalidation-rmse:5.90287\n",
      "[93]\tvalidation-rmse:5.90279\n",
      "[94]\tvalidation-rmse:5.90281\n",
      "[95]\tvalidation-rmse:5.90260\n",
      "[96]\tvalidation-rmse:5.90261\n",
      "[97]\tvalidation-rmse:5.90261\n",
      "[98]\tvalidation-rmse:5.90261\n",
      "[99]\tvalidation-rmse:5.90261\n"
     ]
    },
    {
     "name": "stderr",
     "output_type": "stream",
     "text": [
      "c:\\Users\\Roi_f\\PCD\\nyc-taxi-predictions-2025\\.venv\\Lib\\site-packages\\mlflow\\xgboost\\__init__.py:169: UserWarning: [21:26:32] WARNING: C:\\actions-runner\\_work\\xgboost\\xgboost\\src\\c_api\\c_api.cc:1575: Saving model in the UBJSON format as default.  You can use a file extension: `json` or `ubj` to choose between formats.\n",
      "  xgb_model.save_model(model_data_path)\n",
      "2025/10/21 21:26:38 WARNING mlflow.utils.environment: Failed to resolve installed pip version. ``pip`` will be added to conda.yaml environment spec without a version specifier.\n",
      "Downloading artifacts: 100%|██████████| 7/7 [00:00<00:00, 1116.52it/s]\n",
      "c:\\Users\\Roi_f\\PCD\\nyc-taxi-predictions-2025\\.venv\\Lib\\site-packages\\mlflow\\xgboost\\__init__.py:321: UserWarning: [21:26:38] WARNING: C:\\actions-runner\\_work\\xgboost\\xgboost\\src\\c_api\\c_api.cc:1511: Unknown file format: `xgb`. Using UBJSON (`ubj`) as a guess.\n",
      "  model.load_model(xgb_model_path)\n",
      "[I 2025-10-21 21:26:43,571] Trial 1 finished with value: 5.902611653559419 and parameters: {'max_depth': 19, 'learning_rate': 0.059264241587996896, 'reg_alpha': 0.21539205131792016, 'reg_lambda': 0.05006540936006931, 'min_child_weight': 6.248180561354165}. Best is trial 1 with value: 5.902611653559419.\n"
     ]
    },
    {
     "name": "stdout",
     "output_type": "stream",
     "text": [
      "🏃 View run illustrious-stag-936 at: https://dbc-8e655ea0-6144.cloud.databricks.com/ml/experiments/2695805265605501/runs/288807c416db440db30e1ecc2e6e44e6\n",
      "🧪 View experiment at: https://dbc-8e655ea0-6144.cloud.databricks.com/ml/experiments/2695805265605501\n",
      "[0]\tvalidation-rmse:5.90396\n",
      "[1]\tvalidation-rmse:5.88901\n",
      "[2]\tvalidation-rmse:5.88875\n",
      "[3]\tvalidation-rmse:5.88908\n",
      "[4]\tvalidation-rmse:5.88973\n",
      "[5]\tvalidation-rmse:5.88241\n",
      "[6]\tvalidation-rmse:5.88348\n",
      "[7]\tvalidation-rmse:5.88292\n",
      "[8]\tvalidation-rmse:5.87483\n",
      "[9]\tvalidation-rmse:5.87457\n",
      "[10]\tvalidation-rmse:5.87441\n",
      "[11]\tvalidation-rmse:5.87453\n",
      "[12]\tvalidation-rmse:5.87449\n",
      "[13]\tvalidation-rmse:5.87444\n",
      "[14]\tvalidation-rmse:5.87358\n",
      "[15]\tvalidation-rmse:5.87331\n",
      "[16]\tvalidation-rmse:5.87310\n",
      "[17]\tvalidation-rmse:5.87302\n",
      "[18]\tvalidation-rmse:5.87068\n",
      "[19]\tvalidation-rmse:5.87074\n",
      "[20]\tvalidation-rmse:5.87061\n",
      "[21]\tvalidation-rmse:5.87062\n",
      "[22]\tvalidation-rmse:5.87063\n",
      "[23]\tvalidation-rmse:5.87068\n",
      "[24]\tvalidation-rmse:5.87073\n",
      "[25]\tvalidation-rmse:5.87077\n",
      "[26]\tvalidation-rmse:5.87081\n",
      "[27]\tvalidation-rmse:5.87078\n",
      "[28]\tvalidation-rmse:5.87063\n",
      "[29]\tvalidation-rmse:5.87063\n"
     ]
    },
    {
     "name": "stderr",
     "output_type": "stream",
     "text": [
      "c:\\Users\\Roi_f\\PCD\\nyc-taxi-predictions-2025\\.venv\\Lib\\site-packages\\mlflow\\xgboost\\__init__.py:169: UserWarning: [21:26:49] WARNING: C:\\actions-runner\\_work\\xgboost\\xgboost\\src\\c_api\\c_api.cc:1575: Saving model in the UBJSON format as default.  You can use a file extension: `json` or `ubj` to choose between formats.\n",
      "  xgb_model.save_model(model_data_path)\n",
      "2025/10/21 21:26:55 WARNING mlflow.utils.environment: Failed to resolve installed pip version. ``pip`` will be added to conda.yaml environment spec without a version specifier.\n",
      "Downloading artifacts: 100%|██████████| 7/7 [00:00<00:00, 866.90it/s] \n",
      "c:\\Users\\Roi_f\\PCD\\nyc-taxi-predictions-2025\\.venv\\Lib\\site-packages\\mlflow\\xgboost\\__init__.py:321: UserWarning: [21:26:55] WARNING: C:\\actions-runner\\_work\\xgboost\\xgboost\\src\\c_api\\c_api.cc:1511: Unknown file format: `xgb`. Using UBJSON (`ubj`) as a guess.\n",
      "  model.load_model(xgb_model_path)\n",
      "[I 2025-10-21 21:26:57,405] Trial 2 finished with value: 5.873624736518469 and parameters: {'max_depth': 5, 'learning_rate': 0.9136840519292247, 'reg_alpha': 0.18820387978911576, 'reg_lambda': 0.007166739666045858, 'min_child_weight': 0.7613210498541186}. Best is trial 2 with value: 5.873624736518469.\n"
     ]
    },
    {
     "name": "stdout",
     "output_type": "stream",
     "text": [
      "🏃 View run thundering-moth-213 at: https://dbc-8e655ea0-6144.cloud.databricks.com/ml/experiments/2695805265605501/runs/cc4c1a78be3847ee9b50d286062c480d\n",
      "🧪 View experiment at: https://dbc-8e655ea0-6144.cloud.databricks.com/ml/experiments/2695805265605501\n",
      "[0]\tvalidation-rmse:5.90396\n",
      "[1]\tvalidation-rmse:5.88901\n",
      "[2]\tvalidation-rmse:5.88875\n",
      "[3]\tvalidation-rmse:5.88908\n",
      "[4]\tvalidation-rmse:5.88973\n",
      "[5]\tvalidation-rmse:5.88241\n",
      "[6]\tvalidation-rmse:5.88348\n",
      "[7]\tvalidation-rmse:5.88292\n",
      "[8]\tvalidation-rmse:5.87483\n",
      "[9]\tvalidation-rmse:5.87457\n",
      "[10]\tvalidation-rmse:5.87441\n",
      "[11]\tvalidation-rmse:5.87453\n",
      "[12]\tvalidation-rmse:5.87449\n",
      "[13]\tvalidation-rmse:5.87444\n",
      "[14]\tvalidation-rmse:5.87358\n",
      "[15]\tvalidation-rmse:5.87331\n",
      "[16]\tvalidation-rmse:5.87310\n",
      "[17]\tvalidation-rmse:5.87302\n",
      "[18]\tvalidation-rmse:5.87068\n",
      "[19]\tvalidation-rmse:5.87074\n",
      "[20]\tvalidation-rmse:5.87061\n",
      "[21]\tvalidation-rmse:5.87062\n",
      "[22]\tvalidation-rmse:5.87063\n",
      "[23]\tvalidation-rmse:5.87068\n",
      "[24]\tvalidation-rmse:5.87073\n",
      "[25]\tvalidation-rmse:5.87077\n",
      "[26]\tvalidation-rmse:5.87081\n",
      "[27]\tvalidation-rmse:5.87078\n",
      "[28]\tvalidation-rmse:5.87063\n",
      "[29]\tvalidation-rmse:5.87063\n"
     ]
    },
    {
     "name": "stderr",
     "output_type": "stream",
     "text": [
      "c:\\Users\\Roi_f\\PCD\\nyc-taxi-predictions-2025\\.venv\\Lib\\site-packages\\mlflow\\xgboost\\__init__.py:169: UserWarning: [21:27:04] WARNING: C:\\actions-runner\\_work\\xgboost\\xgboost\\src\\c_api\\c_api.cc:1575: Saving model in the UBJSON format as default.  You can use a file extension: `json` or `ubj` to choose between formats.\n",
      "  xgb_model.save_model(model_data_path)\n",
      "2025/10/21 21:27:09 WARNING mlflow.utils.environment: Failed to resolve installed pip version. ``pip`` will be added to conda.yaml environment spec without a version specifier.\n",
      "Downloading artifacts: 100%|██████████| 7/7 [00:00<00:00, 1039.04it/s]\n",
      "c:\\Users\\Roi_f\\PCD\\nyc-taxi-predictions-2025\\.venv\\Lib\\site-packages\\mlflow\\xgboost\\__init__.py:321: UserWarning: [21:27:10] WARNING: C:\\actions-runner\\_work\\xgboost\\xgboost\\src\\c_api\\c_api.cc:1511: Unknown file format: `xgb`. Using UBJSON (`ubj`) as a guess.\n",
      "  model.load_model(xgb_model_path)\n"
     ]
    },
    {
     "name": "stdout",
     "output_type": "stream",
     "text": [
      "🏃 View run XGBoost Hyperparameter Optimization (Optuna) at: https://dbc-8e655ea0-6144.cloud.databricks.com/ml/experiments/2695805265605501/runs/5b3648df83a54714bba13ed23fcc04fe\n",
      "🧪 View experiment at: https://dbc-8e655ea0-6144.cloud.databricks.com/ml/experiments/2695805265605501\n"
     ]
    }
   ],
   "source": [
    "mlflow.xgboost.autolog(log_models=False)\n",
    "\n",
    "# ------------------------------------------------------------\n",
    "# Crear el estudio de Optuna\n",
    "#    - Usamos TPE (Tree-structured Parzen Estimator) como sampler.\n",
    "#    - direction=\"minimize\" porque queremos minimizar el RMSE.\n",
    "# ------------------------------------------------------------\n",
    "sampler = TPESampler(seed=42)\n",
    "study = optuna.create_study(direction=\"minimize\", sampler=sampler)\n",
    "\n",
    "# ------------------------------------------------------------\n",
    "# Ejecutar la optimización (n_trials = número de intentos)\n",
    "#    - Cada trial ejecuta la función objetivo con un set distinto de hiperparámetros.\n",
    "#    - Abrimos un run \"padre\" para agrupar toda la búsqueda.\n",
    "# ------------------------------------------------------------\n",
    "with mlflow.start_run(run_name=\"XGBoost Hyperparameter Optimization (Optuna)\", nested=True):\n",
    "    study.optimize(objective, n_trials=3)\n",
    "\n",
    "    # --------------------------------------------------------\n",
    "    # Recuperar y registrar los mejores hiperparámetros\n",
    "    # --------------------------------------------------------\n",
    "    best_params = study.best_params\n",
    "    # Asegurar tipos/campos fijos (por claridad y consistencia)\n",
    "    best_params[\"max_depth\"] = int(best_params[\"max_depth\"])\n",
    "    best_params[\"seed\"] = 42\n",
    "    best_params[\"objective\"] = \"reg:squarederror\"\n",
    "\n",
    "    mlflow.log_params(best_params)\n",
    "\n",
    "    # Etiquetas del run \"padre\" (metadatos del experimento)\n",
    "    mlflow.set_tags({\n",
    "        \"project\": \"NYC Taxi Time Prediction Project\",\n",
    "        \"optimizer_engine\": \"optuna\",\n",
    "        \"model_family\": \"xgboost\",\n",
    "        \"feature_set_version\": 1,\n",
    "    })\n",
    "    \n",
    "    mlflow.xgboost.autolog(log_models=False)\n",
    "\n",
    "# ------------------------------------------------------------\n",
    "# Crear el estudio de Optuna\n",
    "#    - Usamos TPE (Tree-structured Parzen Estimator) como sampler.\n",
    "#    - direction=\"minimize\" porque queremos minimizar el RMSE.\n",
    "# ------------------------------------------------------------\n",
    "sampler = TPESampler(seed=42)\n",
    "study = optuna.create_study(direction=\"minimize\", sampler=sampler)\n",
    "\n",
    "# ------------------------------------------------------------\n",
    "# Ejecutar la optimización (n_trials = número de intentos)\n",
    "#    - Cada trial ejecuta la función objetivo con un set distinto de hiperparámetros.\n",
    "#    - Abrimos un run \"padre\" para agrupar toda la búsqueda.\n",
    "# ------------------------------------------------------------\n",
    "with mlflow.start_run(run_name=\"XGBoost Hyperparameter Optimization (Optuna)\", nested=True):\n",
    "    study.optimize(objective, n_trials=3)\n",
    "\n",
    "    # --------------------------------------------------------\n",
    "    # Recuperar y registrar los mejores hiperparámetros\n",
    "    # --------------------------------------------------------\n",
    "    best_params = study.best_params\n",
    "    # Asegurar tipos/campos fijos (por claridad y consistencia)\n",
    "    best_params[\"max_depth\"] = int(best_params[\"max_depth\"])\n",
    "    best_params[\"seed\"] = 42\n",
    "    best_params[\"objective\"] = \"reg:squarederror\"\n",
    "\n",
    "    mlflow.log_params(best_params)\n",
    "\n",
    "    # Etiquetas del run \"padre\" (metadatos del experimento)\n",
    "    mlflow.set_tags({\n",
    "        \"project\": \"NYC Taxi Time Prediction Project\",\n",
    "        \"optimizer_engine\": \"optuna\",\n",
    "        \"model_family\": \"xgboost\",\n",
    "        \"feature_set_version\": 1,\n",
    "    })\n",
    "\n",
    "    # --------------------------------------------------------\n",
    "    # 7) Entrenar un modelo FINAL con los mejores hiperparámetros\n",
    "    #    (normalmente se haría sobre train+val o con CV; aquí mantenemos el patrón original)\n",
    "    # --------------------------------------------------------\n",
    "    booster = xgb.train(\n",
    "        params=best_params,\n",
    "        dtrain=train,\n",
    "        num_boost_round=100,\n",
    "        evals=[(valid, \"validation\")],\n",
    "        early_stopping_rounds=10,\n",
    "    )\n",
    "\n",
    "    # Evaluar y registrar la métrica final en validación\n",
    "    y_pred = booster.predict(valid)\n",
    "    rmse = root_mean_squared_error(y_val, y_pred)\n",
    "    mlflow.log_metric(\"rmse\", rmse)\n",
    "\n",
    "    # --------------------------------------------------------\n",
    "    # 8) Guardar artefactos adicionales (p. ej. el preprocesador)\n",
    "    # --------------------------------------------------------\n",
    "    pathlib.Path(\"preprocessor\").mkdir(exist_ok=True)\n",
    "    with open(\"preprocessor/preprocessor.b\", \"wb\") as f_out:\n",
    "        pickle.dump(dv, f_out)\n",
    "\n",
    "    mlflow.log_artifact(\"preprocessor/preprocessor.b\", artifact_path=\"preprocessor\")\n",
    "\n",
    "    # La \"signature\" describe la estructura esperada de entrada y salida del modelo:\n",
    "    # incluye los nombres, tipos y forma (shape) de las variables de entrada y el tipo de salida.\n",
    "    # MLflow la usa para validar datos en inferencia y documentar el modelo en el Model Registry.\n",
    "    # Si X_val es la matriz dispersa (scipy.sparse) salida de DictVectorizer:\n",
    "    feature_names = dv.get_feature_names_out()\n",
    "    input_example = pd.DataFrame(X_val[:5].toarray(), columns=feature_names)\n",
    "\n",
    "    # Para que las longitudes coincidan, usa el mismo slice en y_pred\n",
    "    signature = infer_signature(input_example, y_val[:5])\n",
    "\n",
    "    # Guardar el modelo del trial como artefacto en MLflow.\n",
    "    mlflow.xgboost.log_model(\n",
    "        booster,\n",
    "        name=\"model\",\n",
    "        input_example=input_example,\n",
    "        signature=signature\n",
    "    )"
   ]
  },
  {
   "cell_type": "code",
   "execution_count": 15,
   "id": "3d7f12a7",
   "metadata": {},
   "outputs": [],
   "source": [
    "model_name = \"workspace.default.nyc-taxi-model\""
   ]
  },
  {
   "cell_type": "code",
   "execution_count": 16,
   "id": "06e495a3",
   "metadata": {},
   "outputs": [
    {
     "name": "stderr",
     "output_type": "stream",
     "text": [
      "Successfully registered model 'workspace.default.nyc-taxi-model'.\n"
     ]
    },
    {
     "ename": "RestException",
     "evalue": "RESOURCE_DOES_NOT_EXIST: Run '0' not found.",
     "output_type": "error",
     "traceback": [
      "\u001b[31m---------------------------------------------------------------------------\u001b[39m",
      "\u001b[31mRestException\u001b[39m                             Traceback (most recent call last)",
      "\u001b[36mCell\u001b[39m\u001b[36m \u001b[39m\u001b[32mIn[16]\u001b[39m\u001b[32m, line 4\u001b[39m\n\u001b[32m      1\u001b[39m run_id = \u001b[38;5;28minput\u001b[39m(\u001b[33m\"\u001b[39m\u001b[33mIngrese el run id\u001b[39m\u001b[33m\"\u001b[39m)\n\u001b[32m      2\u001b[39m run_uri = \u001b[33mf\u001b[39m\u001b[33m\"\u001b[39m\u001b[33mruns:/\u001b[39m\u001b[38;5;132;01m{\u001b[39;00mrun_id\u001b[38;5;132;01m}\u001b[39;00m\u001b[33m/model\u001b[39m\u001b[33m\"\u001b[39m\n\u001b[32m----> \u001b[39m\u001b[32m4\u001b[39m result = \u001b[43mmlflow\u001b[49m\u001b[43m.\u001b[49m\u001b[43mregister_model\u001b[49m\u001b[43m(\u001b[49m\n\u001b[32m      5\u001b[39m \u001b[43m    \u001b[49m\u001b[43mmodel_uri\u001b[49m\u001b[43m=\u001b[49m\u001b[43mrun_uri\u001b[49m\u001b[43m,\u001b[49m\n\u001b[32m      6\u001b[39m \u001b[43m    \u001b[49m\u001b[43mname\u001b[49m\u001b[43m=\u001b[49m\u001b[43mmodel_name\u001b[49m\n\u001b[32m      7\u001b[39m \u001b[43m)\u001b[49m\n",
      "\u001b[36mFile \u001b[39m\u001b[32mc:\\Users\\Roi_f\\PCD\\nyc-taxi-predictions-2025\\.venv\\Lib\\site-packages\\mlflow\\tracking\\_model_registry\\fluent.py:129\u001b[39m, in \u001b[36mregister_model\u001b[39m\u001b[34m(model_uri, name, await_registration_for, tags, env_pack)\u001b[39m\n\u001b[32m     61\u001b[39m \u001b[38;5;28;01mdef\u001b[39;00m\u001b[38;5;250m \u001b[39m\u001b[34mregister_model\u001b[39m(\n\u001b[32m     62\u001b[39m     model_uri,\n\u001b[32m     63\u001b[39m     name,\n\u001b[32m   (...)\u001b[39m\u001b[32m     67\u001b[39m     env_pack: EnvPackType | \u001b[38;5;28;01mNone\u001b[39;00m = \u001b[38;5;28;01mNone\u001b[39;00m,\n\u001b[32m     68\u001b[39m ) -> ModelVersion:\n\u001b[32m     69\u001b[39m \u001b[38;5;250m    \u001b[39m\u001b[33;03m\"\"\"Create a new model version in model registry for the model files specified by ``model_uri``.\u001b[39;00m\n\u001b[32m     70\u001b[39m \n\u001b[32m     71\u001b[39m \u001b[33;03m    Note that this method assumes the model registry backend URI is the same as that of the\u001b[39;00m\n\u001b[32m   (...)\u001b[39m\u001b[32m    127\u001b[39m \u001b[33;03m        Version: 1\u001b[39;00m\n\u001b[32m    128\u001b[39m \u001b[33;03m    \"\"\"\u001b[39;00m\n\u001b[32m--> \u001b[39m\u001b[32m129\u001b[39m     \u001b[38;5;28;01mreturn\u001b[39;00m \u001b[43m_register_model\u001b[49m\u001b[43m(\u001b[49m\n\u001b[32m    130\u001b[39m \u001b[43m        \u001b[49m\u001b[43mmodel_uri\u001b[49m\u001b[43m=\u001b[49m\u001b[43mmodel_uri\u001b[49m\u001b[43m,\u001b[49m\n\u001b[32m    131\u001b[39m \u001b[43m        \u001b[49m\u001b[43mname\u001b[49m\u001b[43m=\u001b[49m\u001b[43mname\u001b[49m\u001b[43m,\u001b[49m\n\u001b[32m    132\u001b[39m \u001b[43m        \u001b[49m\u001b[43mawait_registration_for\u001b[49m\u001b[43m=\u001b[49m\u001b[43mawait_registration_for\u001b[49m\u001b[43m,\u001b[49m\n\u001b[32m    133\u001b[39m \u001b[43m        \u001b[49m\u001b[43mtags\u001b[49m\u001b[43m=\u001b[49m\u001b[43mtags\u001b[49m\u001b[43m,\u001b[49m\n\u001b[32m    134\u001b[39m \u001b[43m        \u001b[49m\u001b[43menv_pack\u001b[49m\u001b[43m=\u001b[49m\u001b[43menv_pack\u001b[49m\u001b[43m,\u001b[49m\n\u001b[32m    135\u001b[39m \u001b[43m    \u001b[49m\u001b[43m)\u001b[49m\n",
      "\u001b[36mFile \u001b[39m\u001b[32mc:\\Users\\Roi_f\\PCD\\nyc-taxi-predictions-2025\\.venv\\Lib\\site-packages\\mlflow\\tracking\\_model_registry\\fluent.py:168\u001b[39m, in \u001b[36m_register_model\u001b[39m\u001b[34m(model_uri, name, await_registration_for, tags, local_model_path, env_pack)\u001b[39m\n\u001b[32m    165\u001b[39m \u001b[38;5;28;01mif\u001b[39;00m RunsArtifactRepository.is_runs_uri(model_uri):\n\u001b[32m    166\u001b[39m     \u001b[38;5;66;03m# If the uri is of the form runs:/...\u001b[39;00m\n\u001b[32m    167\u001b[39m     (run_id, artifact_path) = RunsArtifactRepository.parse_runs_uri(model_uri)\n\u001b[32m--> \u001b[39m\u001b[32m168\u001b[39m     runs_artifact_repo = \u001b[43mRunsArtifactRepository\u001b[49m\u001b[43m(\u001b[49m\u001b[43mmodel_uri\u001b[49m\u001b[43m)\u001b[49m\n\u001b[32m    169\u001b[39m     \u001b[38;5;66;03m# List artifacts in `<run_artifact_root>/<artifact_path>` to see if the run has artifacts.\u001b[39;00m\n\u001b[32m    170\u001b[39m     \u001b[38;5;66;03m# If so use the run's artifact location as source.\u001b[39;00m\n\u001b[32m    171\u001b[39m     artifacts = runs_artifact_repo._list_run_artifacts()\n",
      "\u001b[36mFile \u001b[39m\u001b[32mc:\\Users\\Roi_f\\PCD\\nyc-taxi-predictions-2025\\.venv\\Lib\\site-packages\\mlflow\\store\\artifact\\runs_artifact_repo.py:36\u001b[39m, in \u001b[36mRunsArtifactRepository.__init__\u001b[39m\u001b[34m(self, artifact_uri, tracking_uri)\u001b[39m\n\u001b[32m     33\u001b[39m \u001b[38;5;28;01mfrom\u001b[39;00m\u001b[38;5;250m \u001b[39m\u001b[34;01mmlflow\u001b[39;00m\u001b[34;01m.\u001b[39;00m\u001b[34;01mstore\u001b[39;00m\u001b[34;01m.\u001b[39;00m\u001b[34;01martifact\u001b[39;00m\u001b[34;01m.\u001b[39;00m\u001b[34;01martifact_repository_registry\u001b[39;00m\u001b[38;5;250m \u001b[39m\u001b[38;5;28;01mimport\u001b[39;00m get_artifact_repository\n\u001b[32m     35\u001b[39m \u001b[38;5;28msuper\u001b[39m().\u001b[34m__init__\u001b[39m(artifact_uri, tracking_uri)\n\u001b[32m---> \u001b[39m\u001b[32m36\u001b[39m uri = \u001b[43mRunsArtifactRepository\u001b[49m\u001b[43m.\u001b[49m\u001b[43mget_underlying_uri\u001b[49m\u001b[43m(\u001b[49m\u001b[43martifact_uri\u001b[49m\u001b[43m,\u001b[49m\u001b[43m \u001b[49m\u001b[43mtracking_uri\u001b[49m\u001b[43m)\u001b[49m\n\u001b[32m     37\u001b[39m \u001b[38;5;28mself\u001b[39m.repo = get_artifact_repository(uri, tracking_uri=\u001b[38;5;28mself\u001b[39m.tracking_uri)\n",
      "\u001b[36mFile \u001b[39m\u001b[32mc:\\Users\\Roi_f\\PCD\\nyc-taxi-predictions-2025\\.venv\\Lib\\site-packages\\mlflow\\store\\artifact\\runs_artifact_repo.py:49\u001b[39m, in \u001b[36mRunsArtifactRepository.get_underlying_uri\u001b[39m\u001b[34m(runs_uri, tracking_uri)\u001b[39m\n\u001b[32m     47\u001b[39m (run_id, artifact_path) = RunsArtifactRepository.parse_runs_uri(runs_uri)\n\u001b[32m     48\u001b[39m databricks_profile_uri = get_databricks_profile_uri_from_artifact_uri(runs_uri)\n\u001b[32m---> \u001b[39m\u001b[32m49\u001b[39m uri = \u001b[43mget_artifact_uri\u001b[49m\u001b[43m(\u001b[49m\n\u001b[32m     50\u001b[39m \u001b[43m    \u001b[49m\u001b[43mrun_id\u001b[49m\u001b[43m=\u001b[49m\u001b[43mrun_id\u001b[49m\u001b[43m,\u001b[49m\n\u001b[32m     51\u001b[39m \u001b[43m    \u001b[49m\u001b[43martifact_path\u001b[49m\u001b[43m=\u001b[49m\u001b[43martifact_path\u001b[49m\u001b[43m,\u001b[49m\n\u001b[32m     52\u001b[39m \u001b[43m    \u001b[49m\u001b[43mtracking_uri\u001b[49m\u001b[43m=\u001b[49m\u001b[43mdatabricks_profile_uri\u001b[49m\u001b[43m \u001b[49m\u001b[38;5;129;43;01mor\u001b[39;49;00m\u001b[43m \u001b[49m\u001b[43mtracking_uri\u001b[49m\u001b[43m,\u001b[49m\n\u001b[32m     53\u001b[39m \u001b[43m\u001b[49m\u001b[43m)\u001b[49m\n\u001b[32m     54\u001b[39m \u001b[38;5;28;01massert\u001b[39;00m \u001b[38;5;129;01mnot\u001b[39;00m RunsArtifactRepository.is_runs_uri(uri)  \u001b[38;5;66;03m# avoid an infinite loop\u001b[39;00m\n\u001b[32m     55\u001b[39m \u001b[38;5;28;01mreturn\u001b[39;00m add_databricks_profile_info_to_artifact_uri(\n\u001b[32m     56\u001b[39m     artifact_uri=uri, databricks_profile_uri=databricks_profile_uri \u001b[38;5;129;01mor\u001b[39;00m tracking_uri\n\u001b[32m     57\u001b[39m )\n",
      "\u001b[36mFile \u001b[39m\u001b[32mc:\\Users\\Roi_f\\PCD\\nyc-taxi-predictions-2025\\.venv\\Lib\\site-packages\\mlflow\\tracking\\artifact_utils.py:53\u001b[39m, in \u001b[36mget_artifact_uri\u001b[39m\u001b[34m(run_id, artifact_path, tracking_uri)\u001b[39m\n\u001b[32m     47\u001b[39m     \u001b[38;5;28;01mraise\u001b[39;00m MlflowException(\n\u001b[32m     48\u001b[39m         message=\u001b[33m\"\u001b[39m\u001b[33mA run_id must be specified in order to obtain an artifact uri!\u001b[39m\u001b[33m\"\u001b[39m,\n\u001b[32m     49\u001b[39m         error_code=INVALID_PARAMETER_VALUE,\n\u001b[32m     50\u001b[39m     )\n\u001b[32m     52\u001b[39m store = _get_store(tracking_uri)\n\u001b[32m---> \u001b[39m\u001b[32m53\u001b[39m run = \u001b[43mstore\u001b[49m\u001b[43m.\u001b[49m\u001b[43mget_run\u001b[49m\u001b[43m(\u001b[49m\u001b[43mrun_id\u001b[49m\u001b[43m)\u001b[49m\n\u001b[32m     54\u001b[39m \u001b[38;5;66;03m# Maybe move this method to RunsArtifactRepository so the circular dependency is clearer.\u001b[39;00m\n\u001b[32m     55\u001b[39m \u001b[38;5;28;01massert\u001b[39;00m urllib.parse.urlparse(run.info.artifact_uri).scheme != \u001b[33m\"\u001b[39m\u001b[33mruns\u001b[39m\u001b[33m\"\u001b[39m  \u001b[38;5;66;03m# avoid an infinite loop\u001b[39;00m\n",
      "\u001b[36mFile \u001b[39m\u001b[32mc:\\Users\\Roi_f\\PCD\\nyc-taxi-predictions-2025\\.venv\\Lib\\site-packages\\mlflow\\store\\tracking\\rest_store.py:294\u001b[39m, in \u001b[36mRestStore.get_run\u001b[39m\u001b[34m(self, run_id)\u001b[39m\n\u001b[32m    284\u001b[39m \u001b[38;5;250m\u001b[39m\u001b[33;03m\"\"\"\u001b[39;00m\n\u001b[32m    285\u001b[39m \u001b[33;03mFetch the run from backend store\u001b[39;00m\n\u001b[32m    286\u001b[39m \n\u001b[32m   (...)\u001b[39m\u001b[32m    291\u001b[39m \u001b[33;03m    A single Run object if it exists, otherwise raises an Exception\u001b[39;00m\n\u001b[32m    292\u001b[39m \u001b[33;03m\"\"\"\u001b[39;00m\n\u001b[32m    293\u001b[39m req_body = message_to_json(GetRun(run_uuid=run_id, run_id=run_id))\n\u001b[32m--> \u001b[39m\u001b[32m294\u001b[39m response_proto = \u001b[38;5;28;43mself\u001b[39;49m\u001b[43m.\u001b[49m\u001b[43m_call_endpoint\u001b[49m\u001b[43m(\u001b[49m\u001b[43mGetRun\u001b[49m\u001b[43m,\u001b[49m\u001b[43m \u001b[49m\u001b[43mreq_body\u001b[49m\u001b[43m)\u001b[49m\n\u001b[32m    295\u001b[39m \u001b[38;5;28;01mreturn\u001b[39;00m Run.from_proto(response_proto.run)\n",
      "\u001b[36mFile \u001b[39m\u001b[32mc:\\Users\\Roi_f\\PCD\\nyc-taxi-predictions-2025\\.venv\\Lib\\site-packages\\mlflow\\store\\tracking\\rest_store.py:200\u001b[39m, in \u001b[36mRestStore._call_endpoint\u001b[39m\u001b[34m(self, api, json_body, endpoint, retry_timeout_seconds)\u001b[39m\n\u001b[32m    198\u001b[39m     endpoint, method = _METHOD_TO_INFO[api]\n\u001b[32m    199\u001b[39m response_proto = api.Response()\n\u001b[32m--> \u001b[39m\u001b[32m200\u001b[39m \u001b[38;5;28;01mreturn\u001b[39;00m \u001b[43mcall_endpoint\u001b[49m\u001b[43m(\u001b[49m\n\u001b[32m    201\u001b[39m \u001b[43m    \u001b[49m\u001b[38;5;28;43mself\u001b[39;49m\u001b[43m.\u001b[49m\u001b[43mget_host_creds\u001b[49m\u001b[43m(\u001b[49m\u001b[43m)\u001b[49m\u001b[43m,\u001b[49m\n\u001b[32m    202\u001b[39m \u001b[43m    \u001b[49m\u001b[43mendpoint\u001b[49m\u001b[43m,\u001b[49m\n\u001b[32m    203\u001b[39m \u001b[43m    \u001b[49m\u001b[43mmethod\u001b[49m\u001b[43m,\u001b[49m\n\u001b[32m    204\u001b[39m \u001b[43m    \u001b[49m\u001b[43mjson_body\u001b[49m\u001b[43m,\u001b[49m\n\u001b[32m    205\u001b[39m \u001b[43m    \u001b[49m\u001b[43mresponse_proto\u001b[49m\u001b[43m,\u001b[49m\n\u001b[32m    206\u001b[39m \u001b[43m    \u001b[49m\u001b[43mretry_timeout_seconds\u001b[49m\u001b[43m=\u001b[49m\u001b[43mretry_timeout_seconds\u001b[49m\u001b[43m,\u001b[49m\n\u001b[32m    207\u001b[39m \u001b[43m\u001b[49m\u001b[43m)\u001b[49m\n",
      "\u001b[36mFile \u001b[39m\u001b[32mc:\\Users\\Roi_f\\PCD\\nyc-taxi-predictions-2025\\.venv\\Lib\\site-packages\\mlflow\\utils\\rest_utils.py:554\u001b[39m, in \u001b[36mcall_endpoint\u001b[39m\u001b[34m(host_creds, endpoint, method, json_body, response_proto, extra_headers, retry_timeout_seconds)\u001b[39m\n\u001b[32m    551\u001b[39m     call_kwargs[\u001b[33m\"\u001b[39m\u001b[33mjson\u001b[39m\u001b[33m\"\u001b[39m] = json_body\n\u001b[32m    552\u001b[39m     response = http_request(**call_kwargs)\n\u001b[32m--> \u001b[39m\u001b[32m554\u001b[39m response = \u001b[43mverify_rest_response\u001b[49m\u001b[43m(\u001b[49m\u001b[43mresponse\u001b[49m\u001b[43m,\u001b[49m\u001b[43m \u001b[49m\u001b[43mendpoint\u001b[49m\u001b[43m)\u001b[49m\n\u001b[32m    555\u001b[39m response_to_parse = response.text\n\u001b[32m    556\u001b[39m \u001b[38;5;28;01mtry\u001b[39;00m:\n",
      "\u001b[36mFile \u001b[39m\u001b[32mc:\\Users\\Roi_f\\PCD\\nyc-taxi-predictions-2025\\.venv\\Lib\\site-packages\\mlflow\\utils\\rest_utils.py:308\u001b[39m, in \u001b[36mverify_rest_response\u001b[39m\u001b[34m(response, endpoint)\u001b[39m\n\u001b[32m    306\u001b[39m \u001b[38;5;28;01mif\u001b[39;00m response.status_code != \u001b[32m200\u001b[39m:\n\u001b[32m    307\u001b[39m     \u001b[38;5;28;01mif\u001b[39;00m _can_parse_as_json_object(response.text):\n\u001b[32m--> \u001b[39m\u001b[32m308\u001b[39m         \u001b[38;5;28;01mraise\u001b[39;00m RestException(json.loads(response.text))\n\u001b[32m    309\u001b[39m     \u001b[38;5;28;01melse\u001b[39;00m:\n\u001b[32m    310\u001b[39m         base_msg = (\n\u001b[32m    311\u001b[39m             \u001b[33mf\u001b[39m\u001b[33m\"\u001b[39m\u001b[33mAPI request to endpoint \u001b[39m\u001b[38;5;132;01m{\u001b[39;00mendpoint\u001b[38;5;132;01m}\u001b[39;00m\u001b[33m \u001b[39m\u001b[33m\"\u001b[39m\n\u001b[32m    312\u001b[39m             \u001b[33mf\u001b[39m\u001b[33m\"\u001b[39m\u001b[33mfailed with error code \u001b[39m\u001b[38;5;132;01m{\u001b[39;00mresponse.status_code\u001b[38;5;132;01m}\u001b[39;00m\u001b[33m != 200\u001b[39m\u001b[33m\"\u001b[39m\n\u001b[32m    313\u001b[39m         )\n",
      "\u001b[31mRestException\u001b[39m: RESOURCE_DOES_NOT_EXIST: Run '0' not found."
     ]
    }
   ],
   "source": [
    "run_id = input(\"Ingrese el run id\")\n",
    "run_uri = f\"runs:/{run_id}/model\"\n",
    "\n",
    "result = mlflow.register_model(\n",
    "    model_uri=run_uri,\n",
    "    name=model_name\n",
    ")"
   ]
  },
  {
   "cell_type": "code",
   "execution_count": 17,
   "id": "41983085",
   "metadata": {},
   "outputs": [
    {
     "name": "stdout",
     "output_type": "stream",
     "text": [
      "🏆 Champion Run encontrado:\n",
      "Run ID: cc4c1a78be3847ee9b50d286062c480d\n",
      "RMSE: 5.873624736518469\n",
      "Params: {'custom_metric': 'None', 'early_stopping_rounds': '10', 'learning_rate': '0.9136840519292247', 'max_depth': '5', 'maximize': 'None', 'min_child_weight': '0.7613210498541186', 'num_boost_round': '100', 'objective': 'reg:squarederror', 'reg_alpha': '0.18820387978911576', 'reg_lambda': '0.007166739666045858', 'seed': '42', 'verbose_eval': 'True'}\n"
     ]
    }
   ],
   "source": [
    "runs = mlflow.search_runs(\n",
    "    experiment_names= [EXPERIMENT_NAME],\n",
    "    order_by=[\"metrics.rmse ASC\"],\n",
    "    output_format=\"list\"\n",
    ")\n",
    "\n",
    "if len(runs) > 0:\n",
    "    best_run = runs[0]\n",
    "    print(\"🏆 Champion Run encontrado:\")\n",
    "    print(f\"Run ID: {best_run.info.run_id}\")\n",
    "    print(f\"RMSE: {best_run.data.metrics['rmse']}\")\n",
    "    print(f\"Params: {best_run.data.params}\")\n",
    "    \n",
    "else:\n",
    "    print(\"⚠️ No se encontraron runs con métrica RMSE.\")"
   ]
  },
  {
   "cell_type": "code",
   "execution_count": 18,
   "id": "07341c8d",
   "metadata": {},
   "outputs": [
    {
     "name": "stderr",
     "output_type": "stream",
     "text": [
      "Registered model 'workspace.default.nyc-taxi-model' already exists. Creating a new version of this model...\n",
      "2025/10/21 21:28:21 WARNING mlflow.tracking._model_registry.fluent: Run with id cc4c1a78be3847ee9b50d286062c480d has no artifacts at artifact path 'model', registering model based on models:/m-cc5012ff44294d49bb0b0e8fb540d03e instead\n",
      "Downloading artifacts: 100%|██████████| 7/7 [00:01<00:00,  4.09it/s]\n",
      "Uploading artifacts: 100%|██████████| 8/8 [00:04<00:00,  1.69it/s]\n",
      "Created version '1' of model 'workspace.default.nyc-taxi-model'.\n"
     ]
    }
   ],
   "source": [
    "result = mlflow.register_model(\n",
    "    model_uri=f\"runs:/{best_run.info.run_id}/model\",\n",
    "    name=model_name\n",
    ")"
   ]
  },
  {
   "cell_type": "code",
   "execution_count": 19,
   "id": "bba64bae",
   "metadata": {},
   "outputs": [],
   "source": [
    "from mlflow import MlflowClient\n",
    "\n",
    "client = MlflowClient()"
   ]
  },
  {
   "cell_type": "code",
   "execution_count": 20,
   "id": "09633087",
   "metadata": {},
   "outputs": [],
   "source": [
    "model_version = result.version\n",
    "new_alias = \"Champion\"\n",
    "\n",
    "client.set_registered_model_alias(\n",
    "    name=model_name,\n",
    "    alias=new_alias,\n",
    "    version=result.version\n",
    ")"
   ]
  },
  {
   "cell_type": "code",
   "execution_count": 21,
   "id": "352e6e74",
   "metadata": {},
   "outputs": [
    {
     "data": {
      "text/plain": [
       "<ModelVersion: aliases=[], creation_timestamp=1761103707707, current_stage=None, deployment_job_state=<ModelVersionDeploymentJobState: current_task_name='', job_id='', job_state='DEPLOYMENT_JOB_CONNECTION_STATE_UNSPECIFIED', run_id='', run_state='DEPLOYMENT_JOB_RUN_STATE_UNSPECIFIED'>, description='The model version 1 was transitioned to Champion on 2025-10-21 21:31:03.170779', last_updated_timestamp=1761103865151, metrics=[<Metric: dataset_digest='', dataset_name='', key='best_iteration', model_id='m-cc5012ff44294d49bb0b0e8fb540d03e', run_id='cc4c1a78be3847ee9b50d286062c480d', step=0, timestamp=1761103604604, value=20.0>,\n",
       " <Metric: dataset_digest='', dataset_name='', key='rmse', model_id='m-cc5012ff44294d49bb0b0e8fb540d03e', run_id='cc4c1a78be3847ee9b50d286062c480d', step=0, timestamp=1761103607967, value=5.873624736518469>,\n",
       " <Metric: dataset_digest='', dataset_name='', key='stopped_iteration', model_id='m-cc5012ff44294d49bb0b0e8fb540d03e', run_id='cc4c1a78be3847ee9b50d286062c480d', step=0, timestamp=1761103604604, value=30.0>,\n",
       " <Metric: dataset_digest='', dataset_name='', key='validation-rmse', model_id='m-cc5012ff44294d49bb0b0e8fb540d03e', run_id='cc4c1a78be3847ee9b50d286062c480d', step=0, timestamp=1761103604253, value=5.903963207822603>], model_id='m-cc5012ff44294d49bb0b0e8fb540d03e', name='workspace.default.nyc-taxi-model', params=[<LoggedModelParameter: key='verbose_eval', value='True'>,\n",
       " <LoggedModelParameter: key='num_boost_round', value='100'>,\n",
       " <LoggedModelParameter: key='max_depth', value='5'>,\n",
       " <LoggedModelParameter: key='custom_metric', value='None'>,\n",
       " <LoggedModelParameter: key='learning_rate', value='0.9136840519292247'>,\n",
       " <LoggedModelParameter: key='early_stopping_rounds', value='10'>,\n",
       " <LoggedModelParameter: key='seed', value='42'>,\n",
       " <LoggedModelParameter: key='reg_lambda', value='0.007166739666045858'>,\n",
       " <LoggedModelParameter: key='min_child_weight', value='0.7613210498541186'>,\n",
       " <LoggedModelParameter: key='maximize', value='None'>,\n",
       " <LoggedModelParameter: key='objective', value='reg:squarederror'>,\n",
       " <LoggedModelParameter: key='reg_alpha', value='0.18820387978911576'>], run_id='cc4c1a78be3847ee9b50d286062c480d', run_link=None, source='models:/m-cc5012ff44294d49bb0b0e8fb540d03e', status='READY', status_message='', tags={}, user_id='roiflores.2213@gmail.com', version='1'>"
      ]
     },
     "execution_count": 21,
     "metadata": {},
     "output_type": "execute_result"
    }
   ],
   "source": [
    "from datetime import datetime\n",
    "\n",
    "date = datetime.today()\n",
    "\n",
    "client.update_model_version(\n",
    "    name=model_name,\n",
    "    version=model_version,\n",
    "    description=f\"The model version {model_version} was transitioned to {new_alias} on {date}\"\n",
    ")"
   ]
  },
  {
   "cell_type": "code",
   "execution_count": 22,
   "id": "1beb27cf",
   "metadata": {},
   "outputs": [
    {
     "name": "stderr",
     "output_type": "stream",
     "text": [
      "Downloading artifacts: 100%|██████████| 8/8 [00:05<00:00,  1.50it/s]\n",
      "c:\\Users\\Roi_f\\PCD\\nyc-taxi-predictions-2025\\.venv\\Lib\\site-packages\\mlflow\\xgboost\\__init__.py:321: UserWarning: [21:32:23] WARNING: C:\\actions-runner\\_work\\xgboost\\xgboost\\src\\c_api\\c_api.cc:1511: Unknown file format: `xgb`. Using UBJSON (`ubj`) as a guess.\n",
      "  model.load_model(xgb_model_path)\n"
     ]
    },
    {
     "data": {
      "text/plain": [
       "array([ 4.7416825, 24.05205  , 29.134676 , ..., 21.56244  , 13.990461 ,\n",
       "       24.05205  ], shape=(44218,), dtype=float32)"
      ]
     },
     "execution_count": 22,
     "metadata": {},
     "output_type": "execute_result"
    }
   ],
   "source": [
    "import mlflow.pyfunc\n",
    "\n",
    "model_version_uri = f\"models:/{model_name}@Champion\"\n",
    "\n",
    "champion_version = mlflow.pyfunc.load_model(model_version_uri)\n",
    "champion_version.predict(X_val)"
   ]
  }
 ],
 "metadata": {
  "kernelspec": {
   "display_name": "nyc-taxi-predictions-2025",
   "language": "python",
   "name": "python3"
  },
  "language_info": {
   "codemirror_mode": {
    "name": "ipython",
    "version": 3
   },
   "file_extension": ".py",
   "mimetype": "text/x-python",
   "name": "python",
   "nbconvert_exporter": "python",
   "pygments_lexer": "ipython3",
   "version": "3.11.13"
  }
 },
 "nbformat": 4,
 "nbformat_minor": 5
}
